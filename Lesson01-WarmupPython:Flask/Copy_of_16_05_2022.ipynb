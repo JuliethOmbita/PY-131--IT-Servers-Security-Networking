{
  "nbformat": 4,
  "nbformat_minor": 0,
  "metadata": {
    "colab": {
      "name": "Copy of 16.05.2022",
      "provenance": [],
      "collapsed_sections": []
    },
    "kernelspec": {
      "name": "python3",
      "display_name": "Python 3"
    },
    "language_info": {
      "name": "python"
    }
  },
  "cells": [
    {
      "cell_type": "markdown",
      "source": [
        "# Warm-up Exercises \n",
        "\n"
      ],
      "metadata": {
        "id": "TItZAxaLFQZg"
      }
    },
    {
      "cell_type": "markdown",
      "source": [
        "## Exercise 1 \n",
        "\n",
        "Given a string. The task is to print all words with even length in the given string.\n",
        "\n",
        "```\n",
        "Input: s = \"This is a python language\"\n",
        "Output: This\n",
        "        is\n",
        "        python\n",
        "        language \n",
        "\n",
        "Input: s = \"i am muskan\"\n",
        "Output: am\n",
        "        muskan\n",
        "\n",
        "```"
      ],
      "metadata": {
        "id": "I3U4DDZ-l2km"
      }
    },
    {
      "cell_type": "code",
      "source": [
        "s = \"This is a python language\"\n",
        "s = \"i am muskan\"\n",
        "s = s.split()\n",
        "res = [x for x in s if len(x)%2 == 0]\n",
        "res"
      ],
      "metadata": {
        "id": "4qQV_8--WUJ4",
        "outputId": "6851ddd1-b4c6-4848-f31b-d134951787dd",
        "colab": {
          "base_uri": "https://localhost:8080/"
        }
      },
      "execution_count": null,
      "outputs": [
        {
          "output_type": "execute_result",
          "data": {
            "text/plain": [
              "['am', 'muskan']"
            ]
          },
          "metadata": {},
          "execution_count": 9
        }
      ]
    },
    {
      "cell_type": "markdown",
      "source": [
        "## Exercise 2 \n",
        "\n",
        "Sum of a Range of Integers\n",
        "\n",
        "Write a function, add_it_up(), that takes a single integer as input and returns the sum of the integers from zero to the input parameter.\n",
        "\n",
        "The function should return 0 if a non-integer is passed in. \n",
        "\n",
        "i.e. \n",
        "\n",
        "input: 5 \n",
        "output: 1 + 2 + 3 + 4 + 5  = 15 \n",
        "\n",
        "input: 5.2 \n",
        "output: 0"
      ],
      "metadata": {
        "id": "unkR7yKNhr5O"
      }
    },
    {
      "cell_type": "code",
      "source": [
        "def add_it_up(num):\n",
        "  if type(num) == int:\n",
        "    res = 0\n",
        "    for i in range (num-1):\n",
        "      res = res + (res + 1)\n",
        "  return res\n",
        "\n",
        "add_it_up(5)"
      ],
      "metadata": {
        "id": "JJVMeCuBX3ic",
        "outputId": "914d2d19-d76d-4983-a90c-dc2b1c4a3fc1",
        "colab": {
          "base_uri": "https://localhost:8080/"
        }
      },
      "execution_count": null,
      "outputs": [
        {
          "output_type": "execute_result",
          "data": {
            "text/plain": [
              "15"
            ]
          },
          "metadata": {},
          "execution_count": 25
        }
      ]
    },
    {
      "cell_type": "markdown",
      "source": [
        "## Exercise 3 \n",
        "\n",
        "A Caesar cipher is a simple substitution cipher in which each letter of the plain text is substituted with a letter found by moving n places down the alphabet. For example, assume the input plain text is the following:\n",
        "\n",
        "[Cesear cipher wiki](https://en.wikipedia.org/wiki/Caesar_cipher )\n",
        "\n",
        "```\n",
        "abcd xyz\n",
        "```\n",
        "If the shift value, n, is 4, then the encrypted text would be the following:\n",
        "\n",
        "```\n",
        "efgh bcd\n",
        "```\n",
        "You are to write a function that accepts two arguments, a plain-text message and a number of letters to shift in the cipher. The function will return an encrypted string with all letters transformed and all punctuation and whitespace remaining unchanged."
      ],
      "metadata": {
        "id": "RH2hNZovjBle"
      }
    },
    {
      "cell_type": "code",
      "source": [
        "import string\n",
        "def cipher(message, n):\n",
        "  abc = list(string.ascii_lowercase)\n",
        "  encrypted = abc[-n:]+abc[:-n]\n",
        "  res=''\n",
        "  for i in message:\n",
        "    res = res+ encrypted[abc.index(i)]\n",
        "  return res\n",
        "cipher('message', 4)\n"
      ],
      "metadata": {
        "id": "Cp934WBAxDjW",
        "outputId": "f5840aaa-1d8a-4355-f899-cb78cc183546",
        "colab": {
          "base_uri": "https://localhost:8080/",
          "height": 37
        }
      },
      "execution_count": null,
      "outputs": [
        {
          "output_type": "execute_result",
          "data": {
            "text/plain": [
              "'iaoowca'"
            ],
            "application/vnd.google.colaboratory.intrinsic+json": {
              "type": "string"
            }
          },
          "metadata": {},
          "execution_count": 44
        }
      ]
    }
  ]
}