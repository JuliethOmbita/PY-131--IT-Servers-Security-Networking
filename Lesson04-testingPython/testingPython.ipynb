{
 "cells": [
  {
   "cell_type": "code",
   "execution_count": 10,
   "source": [
    "resp = {'Afghanistan': {'vowels': 4, 'consonants': 7, 'message': ''}, 'Aland Islands': {'vowels': 4, 'consonants': 9, 'message': ''}, 'Albania': {'vowels': 4, 'consonants': 3, 'message': ''}, 'Algeria': {'vowels': 4, 'consonants': 3, 'message': ''}, 1894: {'vowels': 0, 'consonants': 0, 'message': 'impout invalid'}}\n",
    "resp.items()\n",
    "resp['Afghanistan']"
   ],
   "outputs": [
    {
     "output_type": "execute_result",
     "data": {
      "text/plain": [
       "dict_items([('Afghanistan', {'vowels': 4, 'consonants': 7, 'message': ''}), ('Aland Islands', {'vowels': 4, 'consonants': 9, 'message': ''}), ('Albania', {'vowels': 4, 'consonants': 3, 'message': ''}), ('Algeria', {'vowels': 4, 'consonants': 3, 'message': ''}), (1894, {'vowels': 0, 'consonants': 0, 'message': 'impout invalid'})])"
      ]
     },
     "metadata": {},
     "execution_count": 10
    }
   ],
   "metadata": {}
  },
  {
   "cell_type": "code",
   "execution_count": 8,
   "source": [
    "class words():\n",
    "\t\"\"\"words\"\"\"\n",
    "\t\n",
    "    def count_vowels(self, palabra):\n",
    "        for i in palabra:\n",
    "            print (i)\n",
    "    \n",
    "if __name__ == '__main__':\n",
    "\twrd = words()\n",
    "\tprint(wrd.count_vowels('ana'))\n",
    "\tprint(wrd.count_vowels('3,3'))"
   ],
   "outputs": [
    {
     "output_type": "error",
     "ename": "IndentationError",
     "evalue": "unindent does not match any outer indentation level (<tokenize>, line 4)",
     "traceback": [
      "\u001b[0;36m  File \u001b[0;32m\"<tokenize>\"\u001b[0;36m, line \u001b[0;32m4\u001b[0m\n\u001b[0;31m    def count_vowels(self, palabra):\u001b[0m\n\u001b[0m    ^\u001b[0m\n\u001b[0;31mIndentationError\u001b[0m\u001b[0;31m:\u001b[0m unindent does not match any outer indentation level\n"
     ]
    }
   ],
   "metadata": {}
  },
  {
   "cell_type": "code",
   "execution_count": null,
   "source": [
    "class Calculator():\n",
    "\t\"\"\"Calculator\"\"\"\n",
    "\t\n",
    "\tdef add(self, *args):\n",
    "\t\treturn sum(args)\n",
    "\n",
    "\tdef sub(self, x, y):\n",
    "\t\treturn x - y\n",
    "\n",
    "\tdef multi(self, x, y):\n",
    "\t\treturn x * y\n",
    "\n",
    "\tdef division(self, x, y):\n",
    "\t\tif y == 0:\n",
    "\t\t\treturn None\n",
    "\t\treturn x / y\n",
    "\n",
    "\tdef is_even(self, x):\n",
    "\t\tif x % 2 == 0:\n",
    "\t\t\treturn True \n",
    "\t\treturn False \n",
    "\n",
    "\tdef divisors(self, x):\n",
    "\t\tdivisors = []\n",
    "\t\tfor i in range(1,x + 1):\n",
    "\t\t\tif x % i == 0:\n",
    "\t\t\t\tdivisors.append(i)\n",
    "\t\treturn divisors\n",
    "\n",
    "\n",
    "\n",
    "if __name__ == '__main__':\n",
    "\tcalc = Calculator()\n",
    "\tprint(calc.add(3,3))\n",
    "\tprint(calc.add(\"ab\",\"cd\"))\n",
    "\tprint(calc.sub(3,3))\n",
    "\tprint(calc.multi(3, 3))\n"
   ],
   "outputs": [],
   "metadata": {}
  },
  {
   "cell_type": "code",
   "execution_count": null,
   "source": [
    "import unittest\n",
    "from calculator import Calculator\n",
    "\n",
    "\n",
    "# the class is the \"test suite\"\n",
    "class TestCalculatorMethods(unittest.TestCase):\n",
    "\n",
    "    def setUp(self):\n",
    "        self.calc = Calculator()\n",
    "\n",
    "    def test_add(self):\n",
    "\n",
    "        self.assertEqual(self.calc.add(3,3), 6, \"tests addition of two arguments on integers\")\n",
    "        self.assertEqual(self.calc.add(3,3,3), 9, \"tests addition of three arguments on integers\")\n",
    "        self.assertEqual(self.calc.add(3.2,3.2), 6.4, \"tests addition on floats\")\n",
    "        self.assertEqual(self.calc.add(-3, -3), -6, \"tests adding negatives\")\n",
    "        #self.assertEqual(self.calc.add(\"ab\", \"cd\"),  \"tests adding negatives\")\n",
    "        # with self.assertRaises(TypeError):\n",
    "        # \tpass\n",
    "\n",
    "    def test_sub(self):\n",
    "\n",
    "        self.assertEqual(self.calc.sub(3,3), 0, \"answer should be zero\")\n",
    "\n",
    "    def test_multi(self):\n",
    "\n",
    "        self.assertEqual(self.calc.multi(3,3), 9, \"answer should be nine\")\n",
    "\n",
    "    def test_division(self):\n",
    "    \tself.assertEqual(self.calc.division(3,3), 1, \"answer should be 1\")\n",
    "    \tself.assertIsNone(self.calc.division(3,0), \"Division by zero impossible\") \n",
    "\n",
    "    def test_is_even(self):\n",
    "    \tself.assertTrue(self.calc.is_even(0))\n",
    "    \tself.assertFalse(self.calc.is_even(3))\n",
    "    \tself.assertTrue(self.calc.is_even(4))\n",
    "\n",
    "\n",
    "    def test_divisors(self):\n",
    "    \tself.assertIn(3, self.calc.divisors(9))\n",
    "    \tself.assertIn(9, self.calc.divisors(9))\n",
    "\n",
    "if __name__ == '__main__':\n",
    "    unittest.main()"
   ],
   "outputs": [],
   "metadata": {}
  }
 ],
 "metadata": {
  "orig_nbformat": 4,
  "language_info": {
   "name": "python",
   "version": "3.9.7",
   "mimetype": "text/x-python",
   "codemirror_mode": {
    "name": "ipython",
    "version": 3
   },
   "pygments_lexer": "ipython3",
   "nbconvert_exporter": "python",
   "file_extension": ".py"
  },
  "kernelspec": {
   "name": "python3",
   "display_name": "Python 3.9.7 64-bit"
  },
  "interpreter": {
   "hash": "aee8b7b246df8f9039afb4144a1f6fd8d2ca17a180786b69acc140d282b71a49"
  }
 },
 "nbformat": 4,
 "nbformat_minor": 2
}