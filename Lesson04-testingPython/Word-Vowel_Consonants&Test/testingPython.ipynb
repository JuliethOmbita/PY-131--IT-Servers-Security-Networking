{
 "cells": [
  {
   "cell_type": "code",
   "execution_count": null,
   "source": [
    "\n",
    "\"\"\"\n",
    "PART 1.\n",
    "i.e. word examples\n",
    "word1 = \"functionality\"\n",
    "word2 = \"apple\"\n",
    "word3 = \"orange\"\n",
    "\n",
    "Create a class funtion that has the following functionality (as methods):\n",
    "\n",
    "1. Takes a word as input\n",
    "2. counts the vowels of a given word vowels: \"aeiou\"\n",
    "3. counts the consonants of a given word \"all the other letters that are not vowels\"\n",
    "4. Add tests using unittest\n",
    "\n",
    "EXTRA:\n",
    "Implement a way to read each word from  a text file.\n",
    "\n",
    "\n",
    "PART 2.\n",
    "\n",
    "Revist the code from yesterday for WordInfo (or use your own version)\n",
    "Modify the code to do the following:\n",
    "\n",
    "1. instead of reading one word, it reads a text file of words\n",
    "2. implement a method called get_word_frequency() that counts the frequency of the words in the text\n",
    "3. implement tests using pytest\n",
    "\n",
    "\n",
    "\"\"\"\n"
   ],
   "outputs": [],
   "metadata": {}
  },
  {
   "cell_type": "code",
   "execution_count": 14,
   "source": [
    "\n",
    "from string import ascii_letters\n",
    "from collections import Counter\n",
    "\n",
    "class words():\n",
    "    \"\"\"Calculator\"\"\"\n",
    "    vowels = 'aeiou'\n",
    "    article = [\"in\", \"at\", \"on\", \"of\", \"to\", \"is\", \"a\", \"an\", \"or\", \"by\", \"the\", \"as\", \"and\"]\n",
    "\n",
    "    def __init__(self, text):\n",
    "        self.text = text.lower()\n",
    "        with open(self.text) as f:\n",
    "            text = f.readlines()\n",
    "        self.text = ''.join(letter for letter in str(\n",
    "            text) if letter in set(ascii_letters + ' ')).split(' ')\n",
    "\n",
    "    def count_vowel(self):\n",
    "        \"\"\"\n",
    "        get the number of vowels a word has\n",
    "        \"\"\"\n",
    "        vowel_lst = [sum(1 for i in word if i in self.vowels) for word in self.text]\n",
    "        return dict(zip(self.text, vowel_lst))\n",
    "        \n",
    "    def count_consonants(self):\n",
    "        \"\"\"\n",
    "        get the number of consonants a word has\n",
    "        \"\"\"\n",
    "        consonants_lst = [sum(1 for i in word if i not in self.vowels) for word in self.text]\n",
    "        return dict(zip(self.text, consonants_lst))\n",
    "        \n",
    "    def count_words_frecuency(self):\n",
    "        \"\"\"\n",
    "        get the number of words that are not in a list\n",
    "        \"\"\"\n",
    "        words_no_prepositions = [word for word in self.text if word not in self.article]\n",
    "        return Counter (words_no_prepositions)\n",
    "\n",
    "        \n",
    "if __name__ == '__main__':\n",
    "    wd = words('text1.txt')\n",
    "    # print(wd.count_vowel())\n",
    "    print(wd.count_words_frecuency())"
   ],
   "outputs": [
    {
     "output_type": "stream",
     "name": "stdout",
     "text": [
      "Counter({'programming': 7, 'code': 5, 'process': 4, 'algorithms': 4, 'usually': 3, 'computer': 3, 'implementation': 3, 'for': 3, 'engineering': 3, 'more': 2, 'program': 2, 'such': 2, 'coding': 2, 'The': 2, 'source': 2, 'that': 2, 'programmers': 2, 'machine': 2, 'which': 2, 'be': 2, 'often': 2, 'related': 2, 'term': 2, 'software': 2, 'development': 2, 'used': 2, 'with': 2, 'Computer': 1, 'performing': 1, 'particular': 1, 'computation': 1, 'generally': 1, 'accomplishing': 1, 'specific': 1, 'computing': 1, 'result': 1, 'designing': 1, 'building': 1, 'executable': 1, 'Programming': 1, 'involves': 1, 'tasks': 1, 'analysis': 1, 'generating': 1, 'profiling': 1, 'accuracy': 1, 'resource': 1, 'consumption': 1, 'chosen': 1, 'language': 1, 'commonly': 1, 'referred': 1, 'written': 1, 'one': 1, 'languages': 1, 'are': 1, 'intelligible': 1, 'rather': 1, 'than': 1, 'directly': 1, 'executed': 1, 'central': 1, 'processing': 1, 'unit': 1, 'purpose': 1, 'find': 1, 'sequence': 1, 'instructions': 1, 'will': 1, 'automate': 1, 'performance': 1, 'task': 1, 'can': 1, 'complex': 1, 'operating': 1, 'system': 1, 'solving': 1, 'given': 1, 'problem': 1, 'Proficient': 1, 'thus': 1, 'requires': 1, 'expertise': 1, 'several': 1, 'different': 1, 'subjects': 1, 'including': 1, 'knowledge': 1, 'application': 1, 'domain': 1, 'specialized': 1, 'formal': 1, 'logicnTasks': 1, 'accompanying': 1, 'include': 1, 'testing': 1, 'debugging': 1, 'maintenance': 1, 'build': 1, 'systems': 1, 'management': 1, 'derived': 1, 'artifacts': 1, 'programs': 1, 'These': 1, 'might': 1, 'considered': 1, 'part': 1, 'but': 1, 'this': 1, 'larger': 1, 'reserved': 1, 'actual': 1, 'writing': 1, 'Software': 1, 'combines': 1, 'techniques': 1, 'practices': 1, 'Reverse': 1, 'designers': 1, 'analysts': 1, 'understand': 1, 'recreatereimplement': 1})\n"
     ]
    }
   ],
   "metadata": {}
  },
  {
   "cell_type": "code",
   "execution_count": 50,
   "source": [
    "from string import ascii_letters\n",
    "\n",
    "with open('text1.txt') as f:\n",
    "    text = f.readlines()\n",
    "print ((''.join(letter for letter in str(text) if letter in set(ascii_letters + ' '))).split(' '))\n"
   ],
   "outputs": [
    {
     "output_type": "stream",
     "name": "stdout",
     "text": [
      "['Computer', 'programming', 'is', 'the', 'process', 'of', 'performing', 'a', 'particular', 'computation', 'or', 'more', 'generally', 'accomplishing', 'a', 'specific', 'computing', 'result', 'usually', 'by', 'designing', 'and', 'building', 'an', 'executable', 'computer', 'program', 'Programming', 'involves', 'tasks', 'such', 'as', 'analysis', 'generating', 'algorithms', 'profiling', 'algorithms', 'accuracy', 'and', 'resource', 'consumption', 'and', 'the', 'implementation', 'of', 'algorithms', 'usually', 'in', 'a', 'chosen', 'programming', 'language', 'commonly', 'referred', 'to', 'as', 'coding', 'The', 'source', 'code', 'of', 'a', 'program', 'is', 'written', 'in', 'one', 'or', 'more', 'languages', 'that', 'are', 'intelligible', 'to', 'programmers', 'rather', 'than', 'machine', 'code', 'which', 'is', 'directly', 'executed', 'by', 'the', 'central', 'processing', 'unit', 'The', 'purpose', 'of', 'programming', 'is', 'to', 'find', 'a', 'sequence', 'of', 'instructions', 'that', 'will', 'automate', 'the', 'performance', 'of', 'a', 'task', 'which', 'can', 'be', 'as', 'complex', 'as', 'an', 'operating', 'system', 'on', 'a', 'computer', 'often', 'for', 'solving', 'a', 'given', 'problem', 'Proficient', 'programming', 'thus', 'usually', 'requires', 'expertise', 'in', 'several', 'different', 'subjects', 'including', 'knowledge', 'of', 'the', 'application', 'domain', 'specialized', 'algorithms', 'and', 'formal', 'logic', 'Tasks', 'accompanying', 'and', 'related', 'to', 'programming', 'include', 'testing', 'debugging', 'source', 'code', 'maintenance', 'implementation', 'of', 'build', 'systems', 'and', 'management', 'of', 'derived', 'artifacts', 'such', 'as', 'the', 'machine', 'code', 'of', 'computer', 'programs', 'These', 'might', 'be', 'considered', 'part', 'of', 'the', 'programming', 'process', 'but', 'often', 'the', 'term', 'software', 'development', 'is', 'used', 'for', 'this', 'larger', 'process', 'with', 'the', 'term', 'programming', 'implementation', 'or', 'coding', 'reserved', 'for', 'the', 'actual', 'writing', 'of', 'code', 'Software', 'engineering', 'combines', 'engineering', 'techniques', 'with', 'software', 'development', 'practices', 'Reverse', 'engineering', 'is', 'a', 'related', 'process', 'used', 'by', 'designers', 'analysts', 'and', 'programmers', 'to', 'understand', 'and', 'recreatereimplement']\n"
     ]
    }
   ],
   "metadata": {}
  },
  {
   "cell_type": "code",
   "execution_count": null,
   "source": [],
   "outputs": [],
   "metadata": {}
  },
  {
   "cell_type": "code",
   "execution_count": null,
   "source": [
    "function calcularImpuestos(edad, ingresos){\n",
    "    if (edad>=18) & (ingresos>=1000) {\n",
    "        resp = ingresos*.4;\n",
    "    }else {\n",
    "        resp = 0; \n",
    "        }\n",
    "    return resp\n",
    "    }"
   ],
   "outputs": [],
   "metadata": {}
  },
  {
   "cell_type": "code",
   "execution_count": null,
   "source": [],
   "outputs": [],
   "metadata": {}
  },
  {
   "cell_type": "code",
   "execution_count": null,
   "source": [
    "#Q1 - Dos formas diferentes de hacerlo:\n",
    "# 1.  calcularImpuestos\n",
    "# 2.  Tenary op (calcularImpuestos2) - un poco mas avanzado\n",
    "\n",
    "def calcularImpuestos(edad, ingresos):\n",
    "    if (edad>=18) & (ingresos>=1000): \n",
    "        resp = ingresos*.4\n",
    "    else:\n",
    "        resp = 0\n",
    "    return resp \n",
    "\n",
    "def calcularImpuestos2(edad, ingresos):\n",
    "    return ingresos*.4 if((edad>=18) & (ingresos>=1000)) else 0 \n",
    "\n",
    "\n",
    "# Q1 \n",
    "print  (calcularImpuestos(18, 1000))\n",
    "print  (calcularImpuestos(40, 10000))\n",
    "print  (calcularImpuestos(17, 5000))\n",
    "print  (calcularImpuestos2(18, 12000))"
   ],
   "outputs": [],
   "metadata": {}
  },
  {
   "cell_type": "code",
   "execution_count": 30,
   "source": [
    "\n",
    "#Q2\n",
    "\n",
    "def asteriscos(palabra):\n",
    "    return palabra.count('*')\n",
    "\n",
    "# Q2\n",
    "print  (asteriscos('h*a*ja'))\n",
    "print  (asteriscos('H*o*l*a'))\n",
    "print  (asteriscos('Hola'))\n",
    "\n",
    "\n",
    "\n",
    "#Q3\n",
    "def duplicar(nums):\n",
    "    duplicados = []\n",
    "    for i in nums:\n",
    "        duplicados.append(i*2)\n",
    "    return duplicados\n",
    "\n",
    "#Q3\n",
    "print  (duplicar([3, 12, 47, 7]))"
   ],
   "outputs": [
    {
     "output_type": "stream",
     "name": "stdout",
     "text": [
      "400.0\n",
      "4000.0\n",
      "0\n",
      "2\n",
      "3\n",
      "0\n",
      "4800.0\n",
      "[6, 24, 94, 14]\n"
     ]
    }
   ],
   "metadata": {}
  },
  {
   "cell_type": "code",
   "execution_count": null,
   "source": [],
   "outputs": [],
   "metadata": {}
  },
  {
   "cell_type": "code",
   "execution_count": 12,
   "source": [
    "resp = {'Afghanistan': {'vowels': 4, 'consonants': 7, 'message': ''}, 'Aland Islands': {'vowels': 4, 'consonants': 9, 'message': ''}, 'Albania': {'vowels': 4, 'consonants': 3, 'message': ''}, 'Algeria': {'vowels': 4, 'consonants': 3, 'message': ''}, 1894: {'vowels': 0, 'consonants': 0, 'message': 'impout invalid'}}\n",
    "resp.items()\n",
    "resp['Afghanistan']['vowels']"
   ],
   "outputs": [
    {
     "output_type": "execute_result",
     "data": {
      "text/plain": [
       "4"
      ]
     },
     "metadata": {},
     "execution_count": 12
    }
   ],
   "metadata": {}
  },
  {
   "cell_type": "code",
   "execution_count": 8,
   "source": [
    "class words():\n",
    "\t\"\"\"words\"\"\"\n",
    "\t\n",
    "    def count_vowels(self, palabra):\n",
    "        for i in palabra:\n",
    "            print (i)\n",
    "    \n",
    "if __name__ == '__main__':\n",
    "\twrd = words()\n",
    "\tprint(wrd.count_vowels('ana'))\n",
    "\tprint(wrd.count_vowels('3,3'))"
   ],
   "outputs": [
    {
     "output_type": "error",
     "ename": "IndentationError",
     "evalue": "unindent does not match any outer indentation level (<tokenize>, line 4)",
     "traceback": [
      "\u001b[0;36m  File \u001b[0;32m\"<tokenize>\"\u001b[0;36m, line \u001b[0;32m4\u001b[0m\n\u001b[0;31m    def count_vowels(self, palabra):\u001b[0m\n\u001b[0m    ^\u001b[0m\n\u001b[0;31mIndentationError\u001b[0m\u001b[0;31m:\u001b[0m unindent does not match any outer indentation level\n"
     ]
    }
   ],
   "metadata": {}
  },
  {
   "cell_type": "code",
   "execution_count": null,
   "source": [
    "class Calculator():\n",
    "\t\"\"\"Calculator\"\"\"\n",
    "\t\n",
    "\tdef add(self, *args):\n",
    "\t\treturn sum(args)\n",
    "\n",
    "\tdef sub(self, x, y):\n",
    "\t\treturn x - y\n",
    "\n",
    "\tdef multi(self, x, y):\n",
    "\t\treturn x * y\n",
    "\n",
    "\tdef division(self, x, y):\n",
    "\t\tif y == 0:\n",
    "\t\t\treturn None\n",
    "\t\treturn x / y\n",
    "\n",
    "\tdef is_even(self, x):\n",
    "\t\tif x % 2 == 0:\n",
    "\t\t\treturn True \n",
    "\t\treturn False \n",
    "\n",
    "\tdef divisors(self, x):\n",
    "\t\tdivisors = []\n",
    "\t\tfor i in range(1,x + 1):\n",
    "\t\t\tif x % i == 0:\n",
    "\t\t\t\tdivisors.append(i)\n",
    "\t\treturn divisors\n",
    "\n",
    "\n",
    "\n",
    "if __name__ == '__main__':\n",
    "\tcalc = Calculator()\n",
    "\tprint(calc.add(3,3))\n",
    "\tprint(calc.add(\"ab\",\"cd\"))\n",
    "\tprint(calc.sub(3,3))\n",
    "\tprint(calc.multi(3, 3))\n"
   ],
   "outputs": [],
   "metadata": {}
  },
  {
   "cell_type": "code",
   "execution_count": null,
   "source": [
    "import unittest\n",
    "from calculator import Calculator\n",
    "\n",
    "\n",
    "# the class is the \"test suite\"\n",
    "class TestCalculatorMethods(unittest.TestCase):\n",
    "\n",
    "    def setUp(self):\n",
    "        self.calc = Calculator()\n",
    "\n",
    "    def test_add(self):\n",
    "\n",
    "        self.assertEqual(self.calc.add(3,3), 6, \"tests addition of two arguments on integers\")\n",
    "        self.assertEqual(self.calc.add(3,3,3), 9, \"tests addition of three arguments on integers\")\n",
    "        self.assertEqual(self.calc.add(3.2,3.2), 6.4, \"tests addition on floats\")\n",
    "        self.assertEqual(self.calc.add(-3, -3), -6, \"tests adding negatives\")\n",
    "        #self.assertEqual(self.calc.add(\"ab\", \"cd\"),  \"tests adding negatives\")\n",
    "        # with self.assertRaises(TypeError):\n",
    "        # \tpass\n",
    "\n",
    "    def test_sub(self):\n",
    "\n",
    "        self.assertEqual(self.calc.sub(3,3), 0, \"answer should be zero\")\n",
    "\n",
    "    def test_multi(self):\n",
    "\n",
    "        self.assertEqual(self.calc.multi(3,3), 9, \"answer should be nine\")\n",
    "\n",
    "    def test_division(self):\n",
    "    \tself.assertEqual(self.calc.division(3,3), 1, \"answer should be 1\")\n",
    "    \tself.assertIsNone(self.calc.division(3,0), \"Division by zero impossible\") \n",
    "\n",
    "    def test_is_even(self):\n",
    "    \tself.assertTrue(self.calc.is_even(0))\n",
    "    \tself.assertFalse(self.calc.is_even(3))\n",
    "    \tself.assertTrue(self.calc.is_even(4))\n",
    "\n",
    "\n",
    "    def test_divisors(self):\n",
    "    \tself.assertIn(3, self.calc.divisors(9))\n",
    "    \tself.assertIn(9, self.calc.divisors(9))\n",
    "\n",
    "if __name__ == '__main__':\n",
    "    unittest.main()"
   ],
   "outputs": [],
   "metadata": {}
  }
 ],
 "metadata": {
  "orig_nbformat": 4,
  "language_info": {
   "name": "python",
   "version": "3.9.7",
   "mimetype": "text/x-python",
   "codemirror_mode": {
    "name": "ipython",
    "version": 3
   },
   "pygments_lexer": "ipython3",
   "nbconvert_exporter": "python",
   "file_extension": ".py"
  },
  "kernelspec": {
   "name": "python3",
   "display_name": "Python 3.9.7 64-bit"
  },
  "interpreter": {
   "hash": "aee8b7b246df8f9039afb4144a1f6fd8d2ca17a180786b69acc140d282b71a49"
  }
 },
 "nbformat": 4,
 "nbformat_minor": 2
}